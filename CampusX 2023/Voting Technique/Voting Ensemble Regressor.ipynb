{
 "cells": [
  {
   "cell_type": "markdown",
   "id": "d9a3662d-fbd1-4b9d-9547-6a387f5337e1",
   "metadata": {},
   "source": [
    "Documentation Link: https://scikit-learn.org/stable/modules/generated/sklearn.ensemble.VotingRegressor.html"
   ]
  },
  {
   "cell_type": "markdown",
   "id": "5bec430a-ee88-463e-a345-015743e7ad8f",
   "metadata": {},
   "source": [
    "Voting Blog: https://vitalflux.com/hard-vs-soft-voting-classifier-python-example/"
   ]
  },
  {
   "cell_type": "code",
   "execution_count": 1,
   "id": "6d14c3b4-f498-458e-b07c-e17b4f0a9a09",
   "metadata": {},
   "outputs": [],
   "source": [
    "import numpy as np\n",
    "import pandas as pd\n",
    "\n",
    "from sklearn.datasets import load_boston\n",
    "from sklearn.linear_model import LinearRegression\n",
    "from sklearn.tree import DecisionTreeRegressor\n",
    "from sklearn.svm import SVR\n",
    "from sklearn.model_selection import cross_val_score\n",
    "\n",
    "from sklearn.ensemble import VotingRegressor"
   ]
  },
  {
   "cell_type": "code",
   "execution_count": 2,
   "id": "afda6933-8795-43a2-a141-e0f5fe6caa8c",
   "metadata": {},
   "outputs": [],
   "source": [
    "# Load dataset\n",
    "\n",
    "# return_X_y : bool, default=False\n",
    "#     If True, returns ``(data, target)`` instead of a Bunch object.\n",
    "#     See below for more information about the `data` and `target` object.\n",
    "\n",
    "# X, y = load_boston(return_X_y=True)"
   ]
  },
  {
   "cell_type": "markdown",
   "id": "411c0c38-5c5f-4c09-848e-a1414f4cf05e",
   "metadata": {},
   "source": [
    "#### We can use below code"
   ]
  },
  {
   "cell_type": "code",
   "execution_count": 3,
   "id": "acb6caee-0267-4b47-afda-acc669e8da99",
   "metadata": {},
   "outputs": [],
   "source": [
    "data_url = \"http://lib.stat.cmu.edu/datasets/boston\"\n",
    "raw_df = pd.read_csv(data_url, sep=\"\\s+\", skiprows=22, header=None)\n",
    "data = np.hstack([raw_df.values[::2, :], raw_df.values[1::2, :2]])\n",
    "target = raw_df.values[1::2, 2]"
   ]
  },
  {
   "cell_type": "code",
   "execution_count": 4,
   "id": "6d526169-40aa-4c94-8f8b-45d5a76c681f",
   "metadata": {},
   "outputs": [
    {
     "data": {
      "text/plain": [
       "(506, 13)"
      ]
     },
     "execution_count": 4,
     "metadata": {},
     "output_type": "execute_result"
    }
   ],
   "source": [
    "data.shape"
   ]
  },
  {
   "cell_type": "code",
   "execution_count": 5,
   "id": "c161196e-d31c-48de-95e1-08beb685184d",
   "metadata": {},
   "outputs": [
    {
     "data": {
      "text/plain": [
       "(506,)"
      ]
     },
     "execution_count": 5,
     "metadata": {},
     "output_type": "execute_result"
    }
   ],
   "source": [
    "target.shape"
   ]
  },
  {
   "cell_type": "code",
   "execution_count": 6,
   "id": "9a1f59c3-f841-42b2-bddc-0718faadc80c",
   "metadata": {},
   "outputs": [],
   "source": [
    "lr = LinearRegression()\n",
    "dt = DecisionTreeRegressor()\n",
    "svr = SVR()"
   ]
  },
  {
   "cell_type": "code",
   "execution_count": 7,
   "id": "b80454ca-97e4-4e8a-8982-6e1e14f059ec",
   "metadata": {},
   "outputs": [],
   "source": [
    "estimators = [('lr',lr),('dt',dt),('svr',svr)]"
   ]
  },
  {
   "cell_type": "code",
   "execution_count": 9,
   "id": "0a1029b7-918d-49ca-a063-559179bc2544",
   "metadata": {},
   "outputs": [
    {
     "name": "stdout",
     "output_type": "stream",
     "text": [
      "lr 0.2\n",
      "dt -0.06\n",
      "svr -0.41\n"
     ]
    }
   ],
   "source": [
    "for estimator in estimators:\n",
    "    scores = cross_val_score(estimator=estimator[1], X=data, y=target, scoring='r2', cv=10)\n",
    "    print(estimator[0],np.round(np.mean(scores),2))"
   ]
  },
  {
   "cell_type": "code",
   "execution_count": 10,
   "id": "3d65775f-d1c2-4c65-a81a-e849e6b1f989",
   "metadata": {},
   "outputs": [
    {
     "name": "stdout",
     "output_type": "stream",
     "text": [
      "Voting Regressor 0.44\n"
     ]
    }
   ],
   "source": [
    "vr = VotingRegressor(estimators)\n",
    "scores = cross_val_score(estimator=vr, X=data, y=target, scoring='r2', cv=10)\n",
    "print(\"Voting Regressor\",np.round(np.mean(scores),2))"
   ]
  },
  {
   "cell_type": "code",
   "execution_count": 11,
   "id": "7a456a5c-88e5-4bc7-88ec-d1f72936fa36",
   "metadata": {},
   "outputs": [
    {
     "name": "stdout",
     "output_type": "stream",
     "text": [
      "For i=1,j=1,k=1 0.38\n",
      "For i=1,j=1,k=2 0.31\n",
      "For i=1,j=1,k=3 0.23\n",
      "For i=1,j=2,k=1 0.4\n",
      "For i=1,j=2,k=2 0.35\n",
      "For i=1,j=2,k=3 0.35\n",
      "For i=1,j=3,k=1 0.26\n",
      "For i=1,j=3,k=2 0.36\n",
      "For i=1,j=3,k=3 0.37\n",
      "For i=2,j=1,k=1 0.46\n",
      "For i=2,j=1,k=2 0.41\n",
      "For i=2,j=1,k=3 0.36\n",
      "For i=2,j=2,k=1 0.45\n",
      "For i=2,j=2,k=2 0.39\n",
      "For i=2,j=2,k=3 0.4\n",
      "For i=2,j=3,k=1 0.41\n",
      "For i=2,j=3,k=2 0.45\n",
      "For i=2,j=3,k=3 0.39\n",
      "For i=3,j=1,k=1 0.44\n",
      "For i=3,j=1,k=2 0.43\n",
      "For i=3,j=1,k=3 0.39\n",
      "For i=3,j=2,k=1 0.44\n",
      "For i=3,j=2,k=2 0.45\n",
      "For i=3,j=2,k=3 0.4\n",
      "For i=3,j=3,k=1 0.42\n",
      "For i=3,j=3,k=2 0.39\n",
      "For i=3,j=3,k=3 0.38\n"
     ]
    }
   ],
   "source": [
    "for i in range(1,4):\n",
    "    for j in range(1,4):\n",
    "        for k in range(1,4):\n",
    "            vr = VotingRegressor(estimators,weights=[i,j,k])\n",
    "            scores = cross_val_score(estimator=vr, X=data, y=target, scoring='r2', cv=10)\n",
    "            print(\"For i={},j={},k={}\".format(i,j,k), np.round(np.mean(scores), 2))"
   ]
  },
  {
   "cell_type": "code",
   "execution_count": 12,
   "id": "63204e45-0f52-4e33-8963-c0bf307beb4d",
   "metadata": {},
   "outputs": [],
   "source": [
    "# using the same algorithm\n",
    "\n",
    "dt1 = DecisionTreeRegressor(max_depth=1)\n",
    "dt2 = DecisionTreeRegressor(max_depth=3)\n",
    "dt3 = DecisionTreeRegressor(max_depth=5)\n",
    "dt4 = DecisionTreeRegressor(max_depth=7)\n",
    "dt5 = DecisionTreeRegressor(max_depth=None)"
   ]
  },
  {
   "cell_type": "code",
   "execution_count": 13,
   "id": "875a136b-100f-40b5-8da7-e0586843e3a4",
   "metadata": {},
   "outputs": [],
   "source": [
    "estimators2 = [('dt1',dt1),('dt2',dt2),('dt3',dt3),('dt4',dt4),('dt5',dt5)]"
   ]
  },
  {
   "cell_type": "code",
   "execution_count": 14,
   "id": "6f72e597-7044-44b1-ab2f-fbe713281da8",
   "metadata": {},
   "outputs": [
    {
     "name": "stdout",
     "output_type": "stream",
     "text": [
      "dt1 -0.85\n",
      "dt2 -0.21\n",
      "dt3 0.03\n",
      "dt4 0.03\n",
      "dt5 -0.15\n"
     ]
    }
   ],
   "source": [
    "for estimator in estimators2:\n",
    "    scores = cross_val_score(estimator=estimator[1], X=data, y=target, scoring='r2', cv=10)\n",
    "    print(estimator[0], np.round(np.mean(scores), 2))"
   ]
  },
  {
   "cell_type": "code",
   "execution_count": 15,
   "id": "5b0dc022-6667-48bd-ae81-e98c56efcf53",
   "metadata": {},
   "outputs": [
    {
     "name": "stdout",
     "output_type": "stream",
     "text": [
      "Voting Regressor 0.2\n"
     ]
    }
   ],
   "source": [
    "vr = VotingRegressor(estimators=estimators2)\n",
    "scores = cross_val_score(estimator=vr, X=data, y=target, scoring='r2', cv=10)\n",
    "print(\"Voting Regressor\", np.round(np.mean(scores),2))"
   ]
  },
  {
   "cell_type": "code",
   "execution_count": null,
   "id": "89e48504-d63b-42c6-9dad-ceceb98aaf28",
   "metadata": {},
   "outputs": [],
   "source": []
  }
 ],
 "metadata": {
  "kernelspec": {
   "display_name": "Python 3 (ipykernel)",
   "language": "python",
   "name": "python3"
  },
  "language_info": {
   "codemirror_mode": {
    "name": "ipython",
    "version": 3
   },
   "file_extension": ".py",
   "mimetype": "text/x-python",
   "name": "python",
   "nbconvert_exporter": "python",
   "pygments_lexer": "ipython3",
   "version": "3.10.7"
  }
 },
 "nbformat": 4,
 "nbformat_minor": 5
}
